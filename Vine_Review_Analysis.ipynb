{
  "nbformat": 4,
  "nbformat_minor": 0,
  "metadata": {
    "colab": {
      "name": "Vine_Review_Analysis.ipynb",
      "provenance": []
    },
    "kernelspec": {
      "name": "python3",
      "display_name": "Python 3"
    }
  },
  "cells": [
    {
      "cell_type": "code",
      "metadata": {
        "colab": {
          "base_uri": "https://localhost:8080/"
        },
        "id": "kJJmWkw8vW3s",
        "outputId": "6c094123-2b91-4d72-a246-bd0db6f2e1fe"
      },
      "source": [
        "import os\r\n",
        "# Find the latest version of spark 3.0  from http://www-us.apache.org/dist/spark/ and enter as the spark version\r\n",
        "# For example:\r\n",
        "# spark_version = 'spark-3.0.1'\r\n",
        "spark_version = 'spark-3.0.1'\r\n",
        "os.environ['SPARK_VERSION']=spark_version\r\n",
        "\r\n",
        "# Install Spark and Java\r\n",
        "!apt-get update\r\n",
        "!apt-get install openjdk-11-jdk-headless -qq > /dev/null\r\n",
        "!wget -q http://www-us.apache.org/dist/spark/$SPARK_VERSION/$SPARK_VERSION-bin-hadoop2.7.tgz\r\n",
        "!tar xf $SPARK_VERSION-bin-hadoop2.7.tgz\r\n",
        "!pip install -q findspark\r\n",
        "\r\n",
        "# Set Environment Variables\r\n",
        "import os\r\n",
        "os.environ[\"JAVA_HOME\"] = \"/usr/lib/jvm/java-11-openjdk-amd64\"\r\n",
        "os.environ[\"SPARK_HOME\"] = f\"/content/{spark_version}-bin-hadoop2.7\"\r\n",
        "\r\n",
        "# Start a SparkSession\r\n",
        "import findspark\r\n",
        "findspark.init()"
      ],
      "execution_count": 1,
      "outputs": [
        {
          "output_type": "stream",
          "text": [
            "\r0% [Working]\r            \rGet:1 https://cloud.r-project.org/bin/linux/ubuntu bionic-cran40/ InRelease [3,626 B]\n",
            "\r0% [Connecting to archive.ubuntu.com] [Connecting to security.ubuntu.com (91.18\r0% [Connecting to archive.ubuntu.com] [Connecting to security.ubuntu.com (91.18\r0% [1 InRelease gpgv 3,626 B] [Connecting to archive.ubuntu.com] [Connecting to\r                                                                               \rIgn:2 https://developer.download.nvidia.com/compute/cuda/repos/ubuntu1804/x86_64  InRelease\n",
            "\r0% [1 InRelease gpgv 3,626 B] [Connecting to archive.ubuntu.com] [Connecting to\r                                                                               \rIgn:3 https://developer.download.nvidia.com/compute/machine-learning/repos/ubuntu1804/x86_64  InRelease\n",
            "\r0% [1 InRelease gpgv 3,626 B] [Connecting to archive.ubuntu.com] [Waiting for h\r                                                                               \rGet:4 https://developer.download.nvidia.com/compute/cuda/repos/ubuntu1804/x86_64  Release [697 B]\n",
            "\r0% [1 InRelease gpgv 3,626 B] [Connecting to archive.ubuntu.com (91.189.88.152)\r                                                                               \rHit:5 https://developer.download.nvidia.com/compute/machine-learning/repos/ubuntu1804/x86_64  Release\n",
            "\r0% [1 InRelease gpgv 3,626 B] [Connecting to archive.ubuntu.com (91.189.88.152)\r                                                                               \rGet:6 https://developer.download.nvidia.com/compute/cuda/repos/ubuntu1804/x86_64  Release.gpg [836 B]\n",
            "Get:7 http://security.ubuntu.com/ubuntu bionic-security InRelease [88.7 kB]\n",
            "Get:8 http://ppa.launchpad.net/c2d4u.team/c2d4u4.0+/ubuntu bionic InRelease [15.9 kB]\n",
            "Hit:9 http://archive.ubuntu.com/ubuntu bionic InRelease\n",
            "Get:10 https://cloud.r-project.org/bin/linux/ubuntu bionic-cran40/ Packages [44.4 kB]\n",
            "Get:11 http://archive.ubuntu.com/ubuntu bionic-updates InRelease [88.7 kB]\n",
            "Hit:13 http://ppa.launchpad.net/cran/libgit2/ubuntu bionic InRelease\n",
            "Ign:14 https://developer.download.nvidia.com/compute/cuda/repos/ubuntu1804/x86_64  Packages\n",
            "Get:14 https://developer.download.nvidia.com/compute/cuda/repos/ubuntu1804/x86_64  Packages [549 kB]\n",
            "Get:15 http://ppa.launchpad.net/graphics-drivers/ppa/ubuntu bionic InRelease [21.3 kB]\n",
            "Get:16 http://archive.ubuntu.com/ubuntu bionic-backports InRelease [74.6 kB]\n",
            "Get:17 http://security.ubuntu.com/ubuntu bionic-security/universe amd64 Packages [1,383 kB]\n",
            "Get:18 http://security.ubuntu.com/ubuntu bionic-security/main amd64 Packages [1,908 kB]\n",
            "Get:19 http://security.ubuntu.com/ubuntu bionic-security/restricted amd64 Packages [291 kB]\n",
            "Get:20 http://ppa.launchpad.net/c2d4u.team/c2d4u4.0+/ubuntu bionic/main Sources [1,724 kB]\n",
            "Get:21 http://archive.ubuntu.com/ubuntu bionic-updates/main amd64 Packages [2,348 kB]\n",
            "Get:22 http://ppa.launchpad.net/c2d4u.team/c2d4u4.0+/ubuntu bionic/main amd64 Packages [882 kB]\n",
            "Get:23 http://archive.ubuntu.com/ubuntu bionic-updates/restricted amd64 Packages [323 kB]\n",
            "Get:24 http://archive.ubuntu.com/ubuntu bionic-updates/universe amd64 Packages [2,156 kB]\n",
            "Get:25 http://archive.ubuntu.com/ubuntu bionic-updates/multiverse amd64 Packages [42.6 kB]\n",
            "Get:26 http://ppa.launchpad.net/graphics-drivers/ppa/ubuntu bionic/main amd64 Packages [49.2 kB]\n",
            "Fetched 12.0 MB in 4s (2,892 kB/s)\n",
            "Reading package lists... Done\n"
          ],
          "name": "stdout"
        }
      ]
    },
    {
      "cell_type": "code",
      "metadata": {
        "id": "m0Ebv12AvgAP"
      },
      "source": [
        "# Start Spark session\r\n",
        "from pyspark.sql import SparkSession\r\n",
        "from pyspark.sql.types import IntegerType\r\n",
        "spark = SparkSession.builder.appName(\"Challenge\").getOrCreate()"
      ],
      "execution_count": 2,
      "outputs": []
    },
    {
      "cell_type": "code",
      "metadata": {
        "colab": {
          "base_uri": "https://localhost:8080/"
        },
        "id": "orqi5dSEvhRK",
        "outputId": "f59ec2e7-03d2-4213-dc10-ed0e3a899128"
      },
      "source": [
        "from pyspark import SparkFiles\r\n",
        "url = \"https://s3.amazonaws.com/amazon-reviews-pds/tsv/amazon_reviews_us_Watches_v1_00.tsv.gz\"\r\n",
        "spark.sparkContext.addFile(url)\r\n",
        "df = spark.read.option(\"encoding\", \"UTF-8\").csv(SparkFiles.get(\"\"), sep=\"\\t\", header=True, inferSchema=True)\r\n",
        "df.show()"
      ],
      "execution_count": 3,
      "outputs": [
        {
          "output_type": "stream",
          "text": [
            "+-----------+-----------+--------------+----------+--------------+--------------------+----------------+-----------+-------------+-----------+----+-----------------+--------------------+--------------------+-----------+\n",
            "|marketplace|customer_id|     review_id|product_id|product_parent|       product_title|product_category|star_rating|helpful_votes|total_votes|vine|verified_purchase|     review_headline|         review_body|review_date|\n",
            "+-----------+-----------+--------------+----------+--------------+--------------------+----------------+-----------+-------------+-----------+----+-----------------+--------------------+--------------------+-----------+\n",
            "|         US|    3653882|R3O9SGZBVQBV76|B00FALQ1ZC|     937001370|Invicta Women's 1...|         Watches|          5|            0|          0|   N|                Y|          Five Stars|Absolutely love t...| 2015-08-31|\n",
            "|         US|   14661224| RKH8BNC3L5DLF|B00D3RGO20|     484010722|Kenneth Cole New ...|         Watches|          5|            0|          0|   N|                Y|I love thiswatch ...|I love this watch...| 2015-08-31|\n",
            "|         US|   27324930|R2HLE8WKZSU3NL|B00DKYC7TK|     361166390|Ritche 22mm Black...|         Watches|          2|            1|          1|   N|                Y|           Two Stars|           Scratches| 2015-08-31|\n",
            "|         US|    7211452|R31U3UH5AZ42LL|B000EQS1JW|     958035625|Citizen Men's BM8...|         Watches|          5|            0|          0|   N|                Y|          Five Stars|It works well on ...| 2015-08-31|\n",
            "|         US|   12733322|R2SV659OUJ945Y|B00A6GFD7S|     765328221|Orient ER27009B M...|         Watches|          4|            0|          0|   N|                Y|Beautiful face, b...|Beautiful watch f...| 2015-08-31|\n",
            "|         US|    6576411| RA51CP8TR5A2L|B00EYSOSE8|     230493695|Casio Men's GW-94...|         Watches|          5|            0|          0|   N|                Y|       No complaints|i love this watch...| 2015-08-31|\n",
            "|         US|   11811565| RB2Q7DLDN6TH6|B00WM0QA3M|     549298279|Fossil Women's ES...|         Watches|          5|            1|          1|   N|                Y|          Five Stars|for my wife and s...| 2015-08-31|\n",
            "|         US|   49401598|R2RHFJV0UYBK3Y|B00A4EYBR0|     844009113|INFANTRY Mens Nig...|         Watches|          1|            1|          5|   N|                N|I was about to bu...|I was about to bu...| 2015-08-31|\n",
            "|         US|   45925069|R2Z6JOQ94LFHEP|B00MAMPGGE|     263720892|G-Shock Men's Gre...|         Watches|          5|            1|          2|   N|                Y|      Perfect watch!|Watch is perfect....| 2015-08-31|\n",
            "|         US|   44751341| RX27XIIWY5JPB|B004LBPB7Q|     124278407|Heiden Quad Watch...|         Watches|          4|            0|          0|   N|                Y|Great quality and...|Great quality and...| 2015-08-31|\n",
            "|         US|    9962330|R15C7QEZT0LGZN|B00KGTVGKS|      28017857|Fossil Women's ES...|         Watches|          4|            2|          2|   N|                Y|           Satisfied|The watch was pre...| 2015-08-31|\n",
            "|         US|   16097204|R361XSS37V0NCZ|B0039UT5OU|     685450910|Casio General Men...|         Watches|          1|            0|          0|   N|                N|I do not think th...|I bought this wat...| 2015-08-31|\n",
            "|         US|   51330346| ROTNLALUAJAUB|B00MPF0XJQ|     767769082|2Tone Gold Silver...|         Watches|          3|            0|          0|   N|                Y|         Three Stars|It is a cheap wat...| 2015-08-31|\n",
            "|         US|    4201739|R2DYX7QU6BGOHR|B003P1OHHS|     648595227|Bulova Men's 98B1...|         Watches|          5|            0|          0|   N|                Y|          Five Stars|Heavier than i th...| 2015-08-31|\n",
            "|         US|   26339765| RWASY7FKI7QOT|B00R70YEOE|     457338020|Casio - G-Shock -...|         Watches|          5|            2|          3|   N|                Y|  Worth it - love it|Had it for severa...| 2015-08-31|\n",
            "|         US|    2692576|R2KKYZIN3CCL21|B000FVE3BG|     824370661|Invicta Men's 332...|         Watches|          5|            0|          0|   N|                Y|This is when diff...|This one is diffe...| 2015-08-31|\n",
            "|         US|   44713366|R22H4FGVD5O52O|B008X6JB12|     814431355|Seiko Women's SUT...|         Watches|          4|            1|          1|   N|                Y|Thewatch is attra...|The watch is attr...| 2015-08-31|\n",
            "|         US|   32778769|R11UACZERCM4ZY|B0040UOFPW|     187700878|Anne Klein Women'...|         Watches|          5|            0|          0|   N|                Y|          Five Stars|      said my wife..| 2015-08-31|\n",
            "|         US|   27258523|R1AT8NQ38UQOL6|B00UR2R5UY|     594315262|Guess U13630G1 Me...|         Watches|          5|            0|          0|   N|                Y|          Five Stars|Nice watch, on ti...| 2015-08-31|\n",
            "|         US|   42646538|R2NCZRQGIF1Q75|B00HFF57L0|     520810507|Nixon Men's Geo V...|         Watches|          4|            0|          0|   N|                Y|        Very stylish|Looks great and l...| 2015-08-31|\n",
            "+-----------+-----------+--------------+----------+--------------+--------------------+----------------+-----------+-------------+-----------+----+-----------------+--------------------+--------------------+-----------+\n",
            "only showing top 20 rows\n",
            "\n"
          ],
          "name": "stdout"
        }
      ]
    },
    {
      "cell_type": "code",
      "metadata": {
        "colab": {
          "base_uri": "https://localhost:8080/"
        },
        "id": "cQkPQ9wpvtFF",
        "outputId": "9b062cf2-1ae5-4c34-f8cd-cf8d99b70f01"
      },
      "source": [
        "# Create the vine_table. DataFrame\r\n",
        "vine_df = df.select(['review_id','star_rating','helpful_votes','total_votes','vine','verified_purchase'])\r\n",
        "vine_df.show()"
      ],
      "execution_count": 4,
      "outputs": [
        {
          "output_type": "stream",
          "text": [
            "+--------------+-----------+-------------+-----------+----+-----------------+\n",
            "|     review_id|star_rating|helpful_votes|total_votes|vine|verified_purchase|\n",
            "+--------------+-----------+-------------+-----------+----+-----------------+\n",
            "|R3O9SGZBVQBV76|          5|            0|          0|   N|                Y|\n",
            "| RKH8BNC3L5DLF|          5|            0|          0|   N|                Y|\n",
            "|R2HLE8WKZSU3NL|          2|            1|          1|   N|                Y|\n",
            "|R31U3UH5AZ42LL|          5|            0|          0|   N|                Y|\n",
            "|R2SV659OUJ945Y|          4|            0|          0|   N|                Y|\n",
            "| RA51CP8TR5A2L|          5|            0|          0|   N|                Y|\n",
            "| RB2Q7DLDN6TH6|          5|            1|          1|   N|                Y|\n",
            "|R2RHFJV0UYBK3Y|          1|            1|          5|   N|                N|\n",
            "|R2Z6JOQ94LFHEP|          5|            1|          2|   N|                Y|\n",
            "| RX27XIIWY5JPB|          4|            0|          0|   N|                Y|\n",
            "|R15C7QEZT0LGZN|          4|            2|          2|   N|                Y|\n",
            "|R361XSS37V0NCZ|          1|            0|          0|   N|                N|\n",
            "| ROTNLALUAJAUB|          3|            0|          0|   N|                Y|\n",
            "|R2DYX7QU6BGOHR|          5|            0|          0|   N|                Y|\n",
            "| RWASY7FKI7QOT|          5|            2|          3|   N|                Y|\n",
            "|R2KKYZIN3CCL21|          5|            0|          0|   N|                Y|\n",
            "|R22H4FGVD5O52O|          4|            1|          1|   N|                Y|\n",
            "|R11UACZERCM4ZY|          5|            0|          0|   N|                Y|\n",
            "|R1AT8NQ38UQOL6|          5|            0|          0|   N|                Y|\n",
            "|R2NCZRQGIF1Q75|          4|            0|          0|   N|                Y|\n",
            "+--------------+-----------+-------------+-----------+----+-----------------+\n",
            "only showing top 20 rows\n",
            "\n"
          ],
          "name": "stdout"
        }
      ]
    },
    {
      "cell_type": "code",
      "metadata": {
        "colab": {
          "base_uri": "https://localhost:8080/"
        },
        "id": "KsMiSPkZv4Ey",
        "outputId": "39fcbcaf-912a-44ed-ffcb-6663a880bc1b"
      },
      "source": [
        "#Filter the data and create a new DataFrame or table to retrieve all the rows where the total_votes count is equal to or greater than 20 to pick reviews that are more likely to be helpful and to avoid having division by zero errors later on\r\n",
        "total_votes_count_df = vine_df.filter(\"total_votes >= 20\")\r\n",
        "total_votes_count_df.show()"
      ],
      "execution_count": 6,
      "outputs": [
        {
          "output_type": "stream",
          "text": [
            "+--------------+-----------+-------------+-----------+----+-----------------+\n",
            "|     review_id|star_rating|helpful_votes|total_votes|vine|verified_purchase|\n",
            "+--------------+-----------+-------------+-----------+----+-----------------+\n",
            "|R14W2VCHHK5V7W|          5|           19|         20|   N|                Y|\n",
            "|R1S3T57O3OYT5S|          5|           19|         20|   N|                Y|\n",
            "|R1BTWIBLYYVOV7|          5|           30|         30|   N|                Y|\n",
            "| R6F9VY91ADPLA|          1|            8|         30|   N|                N|\n",
            "|R3PXNV89DFIXKV|          5|           35|         37|   N|                Y|\n",
            "|R2ZF9NYVT3J7D6|          5|           19|         22|   N|                Y|\n",
            "|R20NYA5V0UF9NE|          5|           27|         28|   N|                Y|\n",
            "|R2X8FZRUOS8R8C|          4|           25|         26|   N|                Y|\n",
            "|R2D8IMBVX3XCLF|          1|           14|         20|   N|                Y|\n",
            "|R25UD9TA63L3Q8|          5|           25|         27|   N|                Y|\n",
            "|R2RB1HML8N712P|          5|           26|         28|   N|                Y|\n",
            "| ROXA8XP5EI2KK|          5|           48|         49|   N|                N|\n",
            "|R149IHTGGSRGX9|          5|           19|         20|   N|                Y|\n",
            "|R1B7M0OP3UNP6O|          5|           49|         52|   Y|                N|\n",
            "|R2N92CUM7WBA1A|          5|           27|         28|   N|                Y|\n",
            "|R2TAFZNG4KHFQB|          4|           24|         24|   N|                Y|\n",
            "| RNRFACS48ZE4A|          5|           21|         21|   N|                Y|\n",
            "|R2PO5QTLXJ9LHG|          5|           33|         46|   N|                N|\n",
            "|R38KDT041DRMIN|          5|           19|         24|   N|                Y|\n",
            "|R2MNPDWCA42I4G|          1|           17|         20|   N|                N|\n",
            "+--------------+-----------+-------------+-----------+----+-----------------+\n",
            "only showing top 20 rows\n",
            "\n"
          ],
          "name": "stdout"
        }
      ]
    },
    {
      "cell_type": "code",
      "metadata": {
        "colab": {
          "base_uri": "https://localhost:8080/"
        },
        "id": "-u7MNzujwGBr",
        "outputId": "6104a4f1-8cc1-4841-8b38-a7ff94aefbc6"
      },
      "source": [
        "#Filter the new DataFrame or table created in Step 1 and create a new DataFrame or table to retrieve all the rows where the number of helpful_votes divided by total_votes is equal to or greater than 50%.\r\n",
        "fifty_percent_df = total_votes_count_df.filter(total_votes_count_df[\"helpful_votes\"]/total_votes_count_df[\"total_votes\"] >= 0.5)\r\n",
        "fifty_percent_df.show()"
      ],
      "execution_count": 7,
      "outputs": [
        {
          "output_type": "stream",
          "text": [
            "+--------------+-----------+-------------+-----------+----+-----------------+\n",
            "|     review_id|star_rating|helpful_votes|total_votes|vine|verified_purchase|\n",
            "+--------------+-----------+-------------+-----------+----+-----------------+\n",
            "|R14W2VCHHK5V7W|          5|           19|         20|   N|                Y|\n",
            "|R1S3T57O3OYT5S|          5|           19|         20|   N|                Y|\n",
            "|R1BTWIBLYYVOV7|          5|           30|         30|   N|                Y|\n",
            "|R3PXNV89DFIXKV|          5|           35|         37|   N|                Y|\n",
            "|R2ZF9NYVT3J7D6|          5|           19|         22|   N|                Y|\n",
            "|R20NYA5V0UF9NE|          5|           27|         28|   N|                Y|\n",
            "|R2X8FZRUOS8R8C|          4|           25|         26|   N|                Y|\n",
            "|R2D8IMBVX3XCLF|          1|           14|         20|   N|                Y|\n",
            "|R25UD9TA63L3Q8|          5|           25|         27|   N|                Y|\n",
            "|R2RB1HML8N712P|          5|           26|         28|   N|                Y|\n",
            "| ROXA8XP5EI2KK|          5|           48|         49|   N|                N|\n",
            "|R149IHTGGSRGX9|          5|           19|         20|   N|                Y|\n",
            "|R1B7M0OP3UNP6O|          5|           49|         52|   Y|                N|\n",
            "|R2N92CUM7WBA1A|          5|           27|         28|   N|                Y|\n",
            "|R2TAFZNG4KHFQB|          4|           24|         24|   N|                Y|\n",
            "| RNRFACS48ZE4A|          5|           21|         21|   N|                Y|\n",
            "|R2PO5QTLXJ9LHG|          5|           33|         46|   N|                N|\n",
            "|R38KDT041DRMIN|          5|           19|         24|   N|                Y|\n",
            "|R2MNPDWCA42I4G|          1|           17|         20|   N|                N|\n",
            "|R3F3KMKY26K620|          4|           25|         26|   N|                Y|\n",
            "+--------------+-----------+-------------+-----------+----+-----------------+\n",
            "only showing top 20 rows\n",
            "\n"
          ],
          "name": "stdout"
        }
      ]
    },
    {
      "cell_type": "code",
      "metadata": {
        "colab": {
          "base_uri": "https://localhost:8080/"
        },
        "id": "OHRGElMqwPl7",
        "outputId": "4b660c67-f8e3-4bf9-9b74-fa8601613c0e"
      },
      "source": [
        "# Filter the fifty_percent_df Dataframe to create a new Dataframe that retrieves all the rows where a review was written as part of the Vine program (paid) vine =='Y'\r\n",
        "\r\n",
        "paid_vine_df = fifty_percent_df.filter(\"vine == 'Y'\")\r\n",
        "paid_vine_df.show()"
      ],
      "execution_count": 8,
      "outputs": [
        {
          "output_type": "stream",
          "text": [
            "+--------------+-----------+-------------+-----------+----+-----------------+\n",
            "|     review_id|star_rating|helpful_votes|total_votes|vine|verified_purchase|\n",
            "+--------------+-----------+-------------+-----------+----+-----------------+\n",
            "|R1B7M0OP3UNP6O|          5|           49|         52|   Y|                N|\n",
            "|R2UUV4UGGYMQG8|          5|           34|         39|   Y|                N|\n",
            "| R9K0LZV2BK9YY|          4|           37|         39|   Y|                N|\n",
            "|R2OVFLNEUEGTJM|          3|           18|         25|   Y|                N|\n",
            "| RBE09ELJ77LQ0|          5|           44|         45|   Y|                N|\n",
            "|R3867T8AIJJHM6|          5|           26|         27|   Y|                N|\n",
            "|R1FNVUXPU63WOZ|          4|           43|         48|   Y|                N|\n",
            "|R25XGG2G12SE1Z|          4|           20|         23|   Y|                N|\n",
            "| R3JKU4HRDFZDH|          4|           27|         30|   Y|                N|\n",
            "|R2PQYOCJXRB1BF|          5|           26|         28|   Y|                N|\n",
            "|R1JBQ8UBLA8N4X|          4|          349|        370|   Y|                N|\n",
            "|R2I01ZYMO0GYP1|          4|          107|        121|   Y|                N|\n",
            "|R297GF8EF7AXPO|          2|           22|         30|   Y|                N|\n",
            "|R2OFG89WKPLHGU|          5|           54|         60|   Y|                N|\n",
            "|R13PI8O4697CEV|          4|          135|        144|   Y|                N|\n",
            "|R223MX62JYWUOY|          4|           20|         21|   Y|                N|\n",
            "| RTSXZ0HZF623M|          3|           13|         22|   Y|                N|\n",
            "|R1OB4GCKEYGV9I|          4|           61|         90|   Y|                N|\n",
            "|R1YBNRRUD5WCG4|          5|           15|         20|   Y|                N|\n",
            "|R3L4Z6NK2Z4OV5|          2|           24|         33|   Y|                N|\n",
            "+--------------+-----------+-------------+-----------+----+-----------------+\n",
            "only showing top 20 rows\n",
            "\n"
          ],
          "name": "stdout"
        }
      ]
    },
    {
      "cell_type": "code",
      "metadata": {
        "colab": {
          "base_uri": "https://localhost:8080/"
        },
        "id": "lDU8Gok-wavc",
        "outputId": "19808a90-56d7-4a89-b385-dfe89a914fd4"
      },
      "source": [
        "# Retrieve all the rows where the review was not part of the Vine program (unpaid) \r\n",
        "\r\n",
        "unpaid_vine_df = fifty_percent_df.filter(\"vine == 'N'\")\r\n",
        "unpaid_vine_df.show()"
      ],
      "execution_count": 9,
      "outputs": [
        {
          "output_type": "stream",
          "text": [
            "+--------------+-----------+-------------+-----------+----+-----------------+\n",
            "|     review_id|star_rating|helpful_votes|total_votes|vine|verified_purchase|\n",
            "+--------------+-----------+-------------+-----------+----+-----------------+\n",
            "|R14W2VCHHK5V7W|          5|           19|         20|   N|                Y|\n",
            "|R1S3T57O3OYT5S|          5|           19|         20|   N|                Y|\n",
            "|R1BTWIBLYYVOV7|          5|           30|         30|   N|                Y|\n",
            "|R3PXNV89DFIXKV|          5|           35|         37|   N|                Y|\n",
            "|R2ZF9NYVT3J7D6|          5|           19|         22|   N|                Y|\n",
            "|R20NYA5V0UF9NE|          5|           27|         28|   N|                Y|\n",
            "|R2X8FZRUOS8R8C|          4|           25|         26|   N|                Y|\n",
            "|R2D8IMBVX3XCLF|          1|           14|         20|   N|                Y|\n",
            "|R25UD9TA63L3Q8|          5|           25|         27|   N|                Y|\n",
            "|R2RB1HML8N712P|          5|           26|         28|   N|                Y|\n",
            "| ROXA8XP5EI2KK|          5|           48|         49|   N|                N|\n",
            "|R149IHTGGSRGX9|          5|           19|         20|   N|                Y|\n",
            "|R2N92CUM7WBA1A|          5|           27|         28|   N|                Y|\n",
            "|R2TAFZNG4KHFQB|          4|           24|         24|   N|                Y|\n",
            "| RNRFACS48ZE4A|          5|           21|         21|   N|                Y|\n",
            "|R2PO5QTLXJ9LHG|          5|           33|         46|   N|                N|\n",
            "|R38KDT041DRMIN|          5|           19|         24|   N|                Y|\n",
            "|R2MNPDWCA42I4G|          1|           17|         20|   N|                N|\n",
            "|R3F3KMKY26K620|          4|           25|         26|   N|                Y|\n",
            "|R2PU32HT6X9DOM|          5|           23|         24|   N|                Y|\n",
            "+--------------+-----------+-------------+-----------+----+-----------------+\n",
            "only showing top 20 rows\n",
            "\n"
          ],
          "name": "stdout"
        }
      ]
    },
    {
      "cell_type": "code",
      "metadata": {
        "colab": {
          "base_uri": "https://localhost:8080/"
        },
        "id": "wzuauI-DwbWq",
        "outputId": "0b633169-5fdf-48b5-b9cc-3edce1f69a49"
      },
      "source": [
        "# Determine the total number of reviews, the number of 5-star reviews, and the percentage of 5-star reviews for the two types of review (paid vs unpaid).\r\n",
        "\r\n",
        "#Total number of reviews for paid reviews\r\n",
        "paid_vine_df.count()"
      ],
      "execution_count": 10,
      "outputs": [
        {
          "output_type": "execute_result",
          "data": {
            "text/plain": [
              "47"
            ]
          },
          "metadata": {
            "tags": []
          },
          "execution_count": 10
        }
      ]
    },
    {
      "cell_type": "code",
      "metadata": {
        "colab": {
          "base_uri": "https://localhost:8080/"
        },
        "id": "vaMelM8Cwcjn",
        "outputId": "d70c5a68-ae7a-4a8a-ae4b-92463defdcfe"
      },
      "source": [
        "# The number of 5 star reviews for paid reviews\r\n",
        "number_of_paid_5_star_ratings = paid_vine_df.filter('star_rating == 5')\r\n",
        "number_of_paid_5_star_ratings.count()"
      ],
      "execution_count": 11,
      "outputs": [
        {
          "output_type": "execute_result",
          "data": {
            "text/plain": [
              "15"
            ]
          },
          "metadata": {
            "tags": []
          },
          "execution_count": 11
        }
      ]
    },
    {
      "cell_type": "code",
      "metadata": {
        "colab": {
          "base_uri": "https://localhost:8080/"
        },
        "id": "oGr57AegwgRl",
        "outputId": "73b35270-c537-456b-f70e-18e11e90d9ab"
      },
      "source": [
        "# The percentage of 5-star reviews for paid reviews\r\n",
        "\r\n",
        "total= paid_vine_df.count()\r\n",
        "result=paid_vine_df.filter('star_rating == 5').count()\r\n",
        "\r\n",
        "percentage_paid = (result/total)*100 \r\n",
        "percentage_paid"
      ],
      "execution_count": 12,
      "outputs": [
        {
          "output_type": "execute_result",
          "data": {
            "text/plain": [
              "31.914893617021278"
            ]
          },
          "metadata": {
            "tags": []
          },
          "execution_count": 12
        }
      ]
    },
    {
      "cell_type": "code",
      "metadata": {
        "colab": {
          "base_uri": "https://localhost:8080/"
        },
        "id": "YmNsVb_rwh_E",
        "outputId": "fcc1154f-8244-41a0-b521-ecc92840285e"
      },
      "source": [
        "# Total number of reviews for unpaid reviews\r\n",
        "unpaid_vine_df.count()"
      ],
      "execution_count": 13,
      "outputs": [
        {
          "output_type": "execute_result",
          "data": {
            "text/plain": [
              "8362"
            ]
          },
          "metadata": {
            "tags": []
          },
          "execution_count": 13
        }
      ]
    },
    {
      "cell_type": "code",
      "metadata": {
        "colab": {
          "base_uri": "https://localhost:8080/"
        },
        "id": "OSrSal88wjuC",
        "outputId": "4127f61d-f9c4-4145-ec56-3ef7522efd65"
      },
      "source": [
        "# The number of 5 star reviews for unpaid reviews\r\n",
        "number_of_unpaid_5_star_ratings = unpaid_vine_df.filter('star_rating == 5')\r\n",
        "number_of_unpaid_5_star_ratings.count()"
      ],
      "execution_count": 14,
      "outputs": [
        {
          "output_type": "execute_result",
          "data": {
            "text/plain": [
              "4332"
            ]
          },
          "metadata": {
            "tags": []
          },
          "execution_count": 14
        }
      ]
    },
    {
      "cell_type": "code",
      "metadata": {
        "colab": {
          "base_uri": "https://localhost:8080/"
        },
        "id": "nCJhYvVIwli1",
        "outputId": "c4b53924-9984-46b4-fe1e-a9a967ec73ad"
      },
      "source": [
        "# The percentage of 5-star reviews for unpaid reviews\r\n",
        "second_total= unpaid_vine_df.count()\r\n",
        "second_result=unpaid_vine_df.filter('star_rating == 5').count()\r\n",
        "\r\n",
        "percentage_unpaid = (second_result/second_total)*100 \r\n",
        "percentage_unpaid"
      ],
      "execution_count": 16,
      "outputs": [
        {
          "output_type": "execute_result",
          "data": {
            "text/plain": [
              "51.80578808897393"
            ]
          },
          "metadata": {
            "tags": []
          },
          "execution_count": 16
        }
      ]
    },
    {
      "cell_type": "code",
      "metadata": {
        "id": "VZKVBv8zwnOt"
      },
      "source": [
        ""
      ],
      "execution_count": null,
      "outputs": []
    }
  ]
}